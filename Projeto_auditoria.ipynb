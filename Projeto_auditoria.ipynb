{
  "nbformat": 4,
  "nbformat_minor": 0,
  "metadata": {
    "colab": {
      "provenance": [],
      "authorship_tag": "ABX9TyNFKciJfHZdkpZcUYKpE5ey",
      "include_colab_link": true
    },
    "kernelspec": {
      "name": "python3",
      "display_name": "Python 3"
    },
    "language_info": {
      "name": "python"
    }
  },
  "cells": [
    {
      "cell_type": "markdown",
      "metadata": {
        "id": "view-in-github",
        "colab_type": "text"
      },
      "source": [
        "<a href=\"https://colab.research.google.com/github/mak213k/auditoria/blob/main/Projeto_auditoria.ipynb\" target=\"_parent\"><img src=\"https://colab.research.google.com/assets/colab-badge.svg\" alt=\"Open In Colab\"/></a>"
      ]
    },
    {
      "cell_type": "code",
      "execution_count": null,
      "metadata": {
        "id": "REUa0QwdyyFc"
      },
      "outputs": [],
      "source": [
        "parecer_digitado = input('Digite o parecer do auditor: ').strip()\n",
        "\n",
        "def salvar_parecer(texto, nome_arquivo):\n",
        "    if texto:\n",
        "        print(f\" Parecer registrado: {texto}\")\n",
        "        with open(nome_arquivo, 'w', encoding='utf-8') as writer:\n",
        "            writer.write(texto)\n",
        "    else:\n",
        "        print(\"Nenhum parecer digitado. Registrando como 'sem parecer'.\")\n",
        "        with open(nome_arquivo, 'w', encoding='utf-8') as writer:\n",
        "            writer.write('sem parecer')\n",
        "\n",
        "salvar_parecer(parecer_digitado, 'parecer.txt')"
      ]
    }
  ]
}